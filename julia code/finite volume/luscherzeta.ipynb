{
 "cells": [
  {
   "cell_type": "markdown",
   "metadata": {},
   "source": [
    "Luscher function for different d and gamma and different l,m. note: gamma = 1 in nr case. "
   ]
  },
  {
   "cell_type": "code",
   "execution_count": 13,
   "metadata": {},
   "outputs": [],
   "source": [
    "using FastGaussQuadrature, LinearAlgebra, LegendrePolynomials, Symbolics, Printf, SpecialFunctions, SphericalHarmonics, Plots\n",
    "using LaTeXStrings"
   ]
  },
  {
   "cell_type": "markdown",
   "metadata": {},
   "source": [
    "Some necessary functions"
   ]
  },
  {
   "cell_type": "code",
   "execution_count": 14,
   "metadata": {},
   "outputs": [
    {
     "data": {
      "text/plain": [
       "readshelllist (generic function with 1 method)"
      ]
     },
     "metadata": {},
     "output_type": "display_data"
    }
   ],
   "source": [
    "function KroneckerDelta(i, j)\n",
    "    return i == j ? 1 : 0\n",
    "end\n",
    "\n",
    "function Kronecker(p,q)\n",
    "    P = p - q\n",
    "    if P == [0,0,0]\n",
    "        return 1\n",
    "    else return 0\n",
    "    end\n",
    "end\n",
    "function readshelllist()\n",
    "    file = open(\"D:\\\\PhD\\\\Long-range\\\\julia code\\\\finite volume\\\\shelllist\\\\shelllist499.txt\", \"r\")\n",
    "    shells_og = []\n",
    "    for line in eachline(file)\n",
    "        row = parse.(Float64, split(line))\n",
    "        push!(shells_og, row)\n",
    "    end\n",
    "    \n",
    "    close(file)\n",
    "    return shells_og\n",
    "end"
   ]
  },
  {
   "cell_type": "code",
   "execution_count": 15,
   "metadata": {},
   "outputs": [
    {
     "data": {
      "text/plain": [
       "Z00Yamazakilm (generic function with 1 method)"
      ]
     },
     "metadata": {},
     "output_type": "display_data"
    }
   ],
   "source": [
    "###################################################\n",
    "\n",
    "function coordtranfo(vecd::Vector{Float64})\n",
    "    r::Float64 = norm(vecd)\n",
    "    theta::Float64 = acos(vecd[3]/r)\n",
    "    phi::Float64 = sign(vecd[2])*acos(vecd[1]/norm([vecd[1],vecd[2]]))\n",
    "    return r, theta, phi\n",
    "end\n",
    "\n",
    "function rlYlm(l::Int64,m::Int64,vecd::Vector{Float64})\n",
    "    r::Float64, theta::Float64, phi::Float64 = coordtranfo(vecd)\n",
    "    if l == 0\n",
    "        return 1/sqrt(4*pi)\n",
    "    elseif vecd == [0.0,0.0,0.0]\n",
    "        return 0\n",
    "    elseif m == 0\n",
    "        return (r^l)*(sqrt((2*l + 1)/(4*pi)))*(sqrt(factorial(l-m)/factorial(l+m)))*Plm(cos(theta),l,m)\n",
    "    elseif m != 0 && vecd[1:2] == [0.0,0.0]\n",
    "        return 0\n",
    "    else\n",
    "        return (r^l)*(sqrt((2*l + 1)/(4*pi)))*(sqrt(factorial(l-m)/factorial(l+m)))*Plm(cos(theta),l,m)*exp(1im*m*phi)\n",
    "    end\n",
    "end\n",
    "\n",
    "function regz(x::Float64)\n",
    "    return  sign(x)/(sqrt(x^2 + 10^(-32)))\n",
    "end\n",
    "\n",
    "###################################################\n",
    "\n",
    "@fastmath function summandYamazaki(l::Int64,m::Int64,etasq::Float64,r::Vector{Float64})\n",
    "    return   rlYlm(l,m,r)*exp(- dot(r,r) + etasq) * regz(dot(r,r) - etasq)\n",
    "end\n",
    "\n",
    "@fastmath function summandintegrandYamazaki(l::Int64,m::Int64,gamma1::Int64,etasq::Float64,nd::Float64,gn::Vector{Float64},t::Float64)\n",
    "    return  gamma1*pi^(1.5)*t^(-1.5)*(-1)^(round(nd))*(-1im)^(l)*rlYlm(l,m,-pi*gn/t)*exp(t * etasq - pi^2 / t * dot(gn,gn))\n",
    "end\n",
    "\n",
    "\n",
    "@fastmath function constantpiece(l::Int64,m::Int64,gamma1::Int64)\n",
    "    return  - gamma1*pi*KroneckerDelta(l, 0)*KroneckerDelta(m, 0)\n",
    "end\n",
    "\n",
    "###################################################\n",
    "\n",
    "@inline function Z00Yamazakilm(l::Int64,m::Int64,d::Vector{Float64},gamma1::Int64,etasq::Float64)\n",
    "    nsqcut0::Float64= 60.0\n",
    "    nsqmax::Float64 = 3000.0\n",
    "    Tol::Float64 = 1.0e-16\n",
    "    sum1::Float64 = 0.0\n",
    "    sum2::Float64 = 0.0\n",
    "    sum3::Float64 = 0.0\n",
    "    flag::Int64 = 0\n",
    "    D::Float64 = norm(d)\n",
    "    leggauss_quad::Tuple{Vector{Float64}, Vector{Float64}} = gausslegendre(20)\n",
    "    sample_points::Vector{Float64} = (0.5 .+ 0.5*leggauss_quad[1])\n",
    "    weights::Vector{Float64} = 0.5*leggauss_quad[2]\n",
    "    if etasq >= 0.0\n",
    "         errfunc::Float64 = (pi*gamma1)*(1 - exp(etasq) + (pi)^(1/2)*sqrt(etasq)*erfi(sqrt(etasq))) \n",
    "    else \n",
    "         errfunc = (pi*gamma1)*(1 - exp(etasq) - (pi)^(1/2)*sqrt(-etasq)*(erfi(sqrt(-etasq))))\n",
    "    end\n",
    "    \n",
    "     sum3 += errfunc*KroneckerDelta(l, 0)*KroneckerDelta(m, 0)\n",
    "    \n",
    "    r0::Vector{Float64} = d / (2.0 * gamma1)\n",
    "    sum1 += summandYamazaki(l,m,etasq,r0)\n",
    "    \n",
    "    if etasq>30.0\n",
    "        @printf(\"\\nWarning: positive etaSq(%lf)!\",etasq)\n",
    "    end\n",
    "    \n",
    "     nsqcutr::Float64 = 2.0*((gamma1*sqrt(abs(etasq)) + D / 2.0)^(2) + 1.0)\n",
    "    \n",
    "    if etasq > 0.0 && nsqcutr > nsqcut0\n",
    "        nsqcut::Float64 = nsqcutr\n",
    "    else \n",
    "        nsqcut = nsqcut0\n",
    "    end\n",
    "    \n",
    "    shells_og = readshelllist()\n",
    "    \n",
    "    i::Int64 = 2\n",
    "    nsq= 1.0\n",
    "    while nsq <= nsqmax && flag == 0\n",
    "        nsq::Float64 = shells_og[i][3]\n",
    "        dsum1::Float64 = 0.0\n",
    "        dsum2::Float64 = 0.0\n",
    "        while shells_og[i][3] == nsq\n",
    "            vecnum::Float64 = shells_og[i][4]\n",
    "            shellsum1::Float64 = 0.0\n",
    "            shellsum2::Float64 = 0.0\n",
    "            if D == 0\n",
    "                n::Vector{Float64} = shells_og[i][5:7]\n",
    "                nd::Float64 = 0.0\n",
    "                gn::Vector{Float64} = n\n",
    "                r::Vector{Float64} = n\n",
    "                shellsum1 += vecnum * summandYamazaki(l,m,etasq,r)\n",
    "                if nsq<=nsqcut0\n",
    "                    shellsum2 = sum([@inbounds vecnum * weights[j]*summandintegrandYamazaki(l,m,gamma1,etasq,nd,gn,sample_points[j]) for j in 1:20])\n",
    "#                     shell_sum = @.(vecnum * weights*summandintegrandYamazaki(l,m,gamma1,etasq,nd,gn,sample_points))\n",
    "#                     shellsum2 += sum(shell_sum)\n",
    "#                     shell_sum = 0\n",
    "                    # for ii in 1:20\n",
    "                    #      shellsum2 += vecnum * weights[ii]*summandintegrandYamazaki(l,m,gamma1,etasq,nd,gn,sample_points[ii])\n",
    "                    # end\n",
    "                end\n",
    "            else\n",
    "                j::Int64 = 1\n",
    "                while j <= vecnum\n",
    "                    n = shells_og[i][5+3*(j-1):7+3*(j-1)]\n",
    "                    nd = dot(n,d)\n",
    "                    npara::Vector{Float64} = nd*(d/D^2)\n",
    "                    nperp::Vector{Float64} = n - npara\n",
    "                    gn = gamma1*npara + nperp\n",
    "#                     gn = norm(gn1)\n",
    "                    r = 1/gamma1 * (npara - d/2) + nperp\n",
    "#                     r = norm(r1)\n",
    "                     shellsum1 += summandYamazaki(l,m,etasq,r)\n",
    "                    if nsq<=nsqcut0\n",
    "                        shellsum2 = sum([@inbounds weights[ii]*summandintegrandYamazaki(l,m,gamma1,etasq,nd,gn,sample_points[ii]) for ii in 1:20])\n",
    "#                         shell_sum = @.(weights*summandintegrandYamazaki(l,m,gamma1,etasq,nd,gn,sample_points))\n",
    "#                         shellsum2 += sum(shell_sum)\n",
    "#                         shell_sum = 0\n",
    "                        # for ii in 1:20\n",
    "                        #      shellsum2 += weights[ii]*summandintegrandYamazaki(l,m,gamma1,etasq,nd,gn,sample_points[ii])\n",
    "                        # end\n",
    "                    end\n",
    "                    j += 1\n",
    "                end\n",
    "            end\n",
    "            dsum1 += shellsum1\n",
    "            dsum2 += shellsum2\n",
    "            i += 1\n",
    "        end\n",
    "        sum1 += dsum1\n",
    "        sum2 += dsum2\n",
    "        #error ananlysis\n",
    "        \n",
    "        if nsq > nsqcut\n",
    "#             gn = sqrt(nsq)\n",
    "#             r = 1/gamma1 * (sqrt(nsq) - D/2.0)\n",
    "#              abserr = abs(errorYamazaki(gamma1,etasq,r))\n",
    "#             if abserr<Tol\n",
    "            flag = 1\n",
    "#             end\n",
    "        end\n",
    "    end\n",
    "    \n",
    "    if flag==0\n",
    "        @printf(\"<Warning: Z00(%d)>\\n\",round.(d))\n",
    "    end\n",
    "    sum3 += constantpiece(l,m,gamma1)\n",
    "    return sum1 + sum2 + sum3\n",
    "end\n",
    "\n",
    "###################################################"
   ]
  },
  {
   "cell_type": "code",
   "execution_count": 16,
   "metadata": {},
   "outputs": [
    {
     "data": {
      "text/plain": [
       "100-element Vector{Float64}:\n",
       "   1.350857264344467\n",
       " -18.33029653275018\n",
       "  -8.309265005895796\n",
       "  -4.381914607233901\n",
       "  -1.847372513289777\n",
       "   0.3012776898935443\n",
       "   2.509715563357021\n",
       "   5.179699414879252\n",
       "   9.001715406782171\n",
       "  15.878748946594985\n",
       "   ⋮\n",
       " -22.735983655237305\n",
       " -12.858413959931113\n",
       "  -5.63361218019736\n",
       "   0.7655567140227504\n",
       "   7.546068898589056\n",
       "  16.292849006709275\n",
       "  30.927487473575184\n",
       "  70.19542970176826\n",
       "   4.424749084207178"
      ]
     },
     "metadata": {},
     "output_type": "display_data"
    }
   ],
   "source": [
    "etasq = LinRange(1,10,100)\n",
    "A = [real(Z00Yamazakilm(0,0,[0.0,0.0,0.0],1,etasq[i])) for i in 1:100]"
   ]
  },
  {
   "cell_type": "code",
   "execution_count": 19,
   "metadata": {},
   "outputs": [],
   "source": []
  },
  {
   "cell_type": "code",
   "execution_count": null,
   "metadata": {},
   "outputs": [],
   "source": []
  }
 ],
 "metadata": {
  "kernelspec": {
   "display_name": "Julia 1.9.1",
   "language": "julia",
   "name": "julia-1.9"
  },
  "language_info": {
   "file_extension": ".jl",
   "mimetype": "application/julia",
   "name": "julia",
   "version": "1.9.1"
  }
 },
 "nbformat": 4,
 "nbformat_minor": 2
}
